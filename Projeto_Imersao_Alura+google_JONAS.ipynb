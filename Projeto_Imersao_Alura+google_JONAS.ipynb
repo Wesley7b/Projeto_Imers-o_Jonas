{
  "nbformat": 4,
  "nbformat_minor": 0,
  "metadata": {
    "colab": {
      "provenance": [],
      "authorship_tag": "ABX9TyP99VuxCbJWVlD7bFNwzlFx",
      "include_colab_link": true
    },
    "kernelspec": {
      "name": "python3",
      "display_name": "Python 3"
    },
    "language_info": {
      "name": "python"
    }
  },
  "cells": [
    {
      "cell_type": "markdown",
      "metadata": {
        "id": "view-in-github",
        "colab_type": "text"
      },
      "source": [
        "<a href=\"https://colab.research.google.com/github/Wesley7b/Projeto_Imersao_Jonas/blob/main/Projeto_Imersao_Alura%2Bgoogle_JONAS.ipynb\" target=\"_parent\"><img src=\"https://colab.research.google.com/assets/colab-badge.svg\" alt=\"Open In Colab\"/></a>"
      ]
    },
    {
      "cell_type": "code",
      "source": [
        "# Inicializando o Sistema\n",
        "\n",
        "!pip install -q -U google-generativeai\n",
        "\n",
        "import google.generativeai as genai\n",
        "from google.colab import userdata\n",
        "api_key = userdata.get('Key_Secret')\n",
        "genai.configure(api_key=api_key)\n",
        "\n",
        "Generation_config = {\n",
        "    'candidate_count': 1,\n",
        "    'temperature': 0.7,\n",
        "}\n",
        "\n",
        "safety_settings = {\n",
        "    'HARASSMENT': 'BLOCK_NONE',\n",
        "    'HATE': 'BLOCK_NONE',\n",
        "    'SEXUAL': 'BLOCK_NONE',\n",
        "    'DANGEROUS': 'BLOCK_NONE',\n",
        "}\n",
        "\n",
        "model = genai.GenerativeModel(model_name='gemini-1.0-pro',\n",
        "                                  generation_config=Generation_config,\n",
        "                                  safety_settings=safety_settings)\n",
        "\n",
        "#Melhorando a visualização\n",
        "import textwrap\n",
        "from IPython.display import display\n",
        "from IPython.display import Markdown\n",
        "\n",
        "def to_markwown(text):\n",
        "  text = text.replace(' * '  ' * ')\n",
        "  return Markdown(textwrap.indent(text, '> ', predicate=lambda _: True))\n",
        "  #Imprimindo o histórico\n",
        "  for message in chat.history:\n",
        "    display(to_markwown(f'**{message.role}**:{message.parts[0].text}'))\n",
        "    print*('--------------------------------------------')"
      ],
      "metadata": {
        "id": "InZYNTaSVm-a"
      },
      "execution_count": 40,
      "outputs": []
    },
    {
      "cell_type": "code",
      "source": [
        "# Atalhos do SOS Rio Grande do SUL CUFA\n",
        "\n",
        "# SOS RS CUFA\n",
        "def doacao_alimentos(tipo_alimento, quantidade, localizacao):\n",
        "  # SOS ponto de coleta\n",
        "  ponto_coleta = \"Rua Exemplo, 7 - Centro\"\n",
        "  resposta = f\"Obrigado pela sua doação de {quantidade} de {tipo_alimento}! O ponto de coleta mais próximo de {localizacao} é {ponto_coleta}.\"\n",
        "  return resposta\n",
        "\n",
        "def buscar_alimentos(necessidades, localizacao):\n",
        "  # SOS por alimentos\n",
        "  alimentos_disponiveis = \"Cestas básicas com arroz, feijão, macarrão e alimentos enlatados.\"\n",
        "  resposta = f\"Em {localizacao}, temos disponíveis {alimentos_disponiveis}.\"\n",
        "  return resposta\n",
        "\n",
        "def inf_apoioenchentes_rs():\n",
        "  mensagem = \"\"\"\n",
        "  A CUFA conta com o apoio: GOLLOG, iFood, Unilever. Mercado Livre; Grupo Elfa; AES.\n",
        "  A Campanha de ajuda para as Famílias do Rio Grande do Sul segue e se você estiver fora do país, também pode ajudar pelo pix:\n",
        "doacoespaypal@cufa.org.br e Para doações: doacoes@cufa.org.br\n",
        "É hora de unirmos forças para construir um futuro mais justo e digno para todos.\n",
        "Cada doação conta! Juntos, podemos fazer a diferença e trazer esperança para quem mais precisa. 💪🏾:\n",
        "  \"\"\"\n",
        "  return mensagem\n",
        "\n"
      ],
      "metadata": {
        "id": "JFco94bwW-6L"
      },
      "execution_count": 31,
      "outputs": []
    },
    {
      "cell_type": "code",
      "source": [
        "#IA Chat DATA\n",
        "\n",
        "prompt = \"Olá! Ficamos felizes em saber que você está disposto(a) a ajudar o povo do RS!focado em combater a fome, a insegurança alimentar e te atualizar sobre a tragedia de enchetes do Rio grande do sul. Como posso te ajudar?\"\n",
        "chat = model.start_chat(history=[])\n",
        "response = chat.send_message(prompt)\n",
        "print(\"Chatbot:\", response.text, '\\n')\n",
        "\n",
        "while True:\n",
        " prompt = input('Você: ')\n",
        " if prompt.lower() == \"fim\":\n",
        "   break\n",
        "\n",
        "  # Escolha do usuário\n",
        " if any(palavra in prompt.lower() for palavra in [\"insegurança\", \"alimentar\", \"fome\"]):\n",
        "    response = chat.send_message(info_inseguranca_alimentar())\n",
        " elif any(palavra in prompt.lower() for palavra in [\"enchente\", \"rs\", \"rio grande do sul\", \"ajuda\"]):\n",
        "    response = chat.send_message(info_enchentes_rs())\n",
        "  # Identificação da intenção do usuário\n",
        " elif \"doar\" in prompt.lower():\n",
        "    # Extrair informações da doação\n",
        "    tipo_alimento = \"alimentos\"\n",
        "    quantidade = \"alguns\"\n",
        "    localizacao = \"sua região\"\n",
        "    response = chat.send_message(doacao_alimentos(tipo_alimento, quantidade, localizacao))\n",
        " elif \"buscar\" in prompt.lower():\n",
        "    # Extrair informações da busca\n",
        "    necessidades = \"alimentos\"\n",
        "    localizacao = \"sua região\"\n",
        "    response = chat.send_message(buscar_alimentos(necessidades, localizacao))\n",
        " else:\n",
        "    response = chat.send_message(prompt)\n",
        "\n",
        " print(\"Chatbot:\", response.text, '\\n')"
      ],
      "metadata": {
        "id": "YfGDVc2Rfm3N"
      },
      "execution_count": null,
      "outputs": []
    }
  ]
}