{
  "nbformat": 4,
  "nbformat_minor": 0,
  "metadata": {
    "colab": {
      "provenance": [],
      "mount_file_id": "1W8dyDmPvNigA9M3onLcl9fy8bpSC8VIx",
      "authorship_tag": "ABX9TyOI7iQLrMiFc9HwaTT1ARwt",
      "include_colab_link": true
    },
    "kernelspec": {
      "name": "python3",
      "display_name": "Python 3"
    },
    "language_info": {
      "name": "python"
    }
  },
  "cells": [
    {
      "cell_type": "markdown",
      "metadata": {
        "id": "view-in-github",
        "colab_type": "text"
      },
      "source": [
        "<a href=\"https://colab.research.google.com/github/Wesley7b/Projeto_Imersao_Jonas/blob/main/Untitled0.ipynb\" target=\"_parent\"><img src=\"https://colab.research.google.com/assets/colab-badge.svg\" alt=\"Open In Colab\"/></a>"
      ]
    },
    {
      "cell_type": "markdown",
      "source": [
        "Iniciando o SDK do Google"
      ],
      "metadata": {
        "id": "7i1jMjTRLlhn"
      }
    },
    {
      "cell_type": "code",
      "source": [
        "!pip install -q -U google-generativeai"
      ],
      "metadata": {
        "id": "F2GbI85MLqne"
      },
      "execution_count": 11,
      "outputs": []
    },
    {
      "cell_type": "code",
      "source": [
        "import google.generativeai as genai\n",
        "from google.colab import userdata\n",
        "api_key = userdata.get('Key_Secret')\n",
        "genai.configure(api_key=api_key)\n"
      ],
      "metadata": {
        "id": "1uG1RhIQL3KX"
      },
      "execution_count": 44,
      "outputs": []
    },
    {
      "cell_type": "code",
      "source": [
        "for m in genai.list_models():\n",
        "    if 'generateContent' in m.supported_generation_methods:\n",
        "        print(m.name)\n",
        ""
      ],
      "metadata": {
        "id": "KvD_LWGKMexQ",
        "colab": {
          "base_uri": "https://localhost:8080/",
          "height": 139
        },
        "outputId": "52e03929-b077-4b9b-c1d0-26427fe67b01"
      },
      "execution_count": 45,
      "outputs": [
        {
          "output_type": "stream",
          "name": "stdout",
          "text": [
            "models/gemini-1.0-pro\n",
            "models/gemini-1.0-pro-001\n",
            "models/gemini-1.0-pro-latest\n",
            "models/gemini-1.0-pro-vision-latest\n",
            "models/gemini-1.5-pro-latest\n",
            "models/gemini-pro\n",
            "models/gemini-pro-vision\n"
          ]
        }
      ]
    },
    {
      "cell_type": "code",
      "source": [
        "Generation_config = {\n",
        "    'candidate_count': 1,\n",
        "    'temperature': 0.5,\n",
        "    'top_p': 0.88,\n",
        "    'top_k': 30,\n",
        "    'max_ouput_tokens': 1000,\n",
        "}"
      ],
      "metadata": {
        "id": "oUQu6JSZPOr3"
      },
      "execution_count": 52,
      "outputs": []
    },
    {
      "cell_type": "code",
      "source": [
        "safety_settings = {\n",
        "    'HARASSMENT': 'BLOCK_NONE',\n",
        "    'HATE': 'BLOCK_NONE',\n",
        "    'SEXUAL': 'BLOCK_NONE',\n",
        "    'DANGEROUS': 'BLOCK_NONE',\n",
        "}"
      ],
      "metadata": {
        "id": "lU_HQQ-GPmwq"
      },
      "execution_count": 27,
      "outputs": []
    },
    {
      "cell_type": "markdown",
      "source": [
        "inicializando o modelo"
      ],
      "metadata": {
        "id": "jv1UD0qdQku0"
      }
    },
    {
      "cell_type": "code",
      "source": [
        "model = genai.GenerativeModel(model_name='gemini-1.0-pro',\n",
        "                                  generation_config=Generation_config,\n",
        "                                  safety_settings=safety_settings)"
      ],
      "metadata": {
        "id": "Kb0p_GimQn8r"
      },
      "execution_count": 46,
      "outputs": []
    },
    {
      "cell_type": "code",
      "source": [
        "response = model.generate_content(\"qual o país com maior habitantes\")\n",
        "print(response.text)"
      ],
      "metadata": {
        "id": "LOdAum7bjufu"
      },
      "execution_count": null,
      "outputs": []
    },
    {
      "cell_type": "code",
      "source": [
        "chat = model.start_chat(history=[])"
      ],
      "metadata": {
        "id": "fBDYbhtWfjU2"
      },
      "execution_count": 48,
      "outputs": []
    },
    {
      "cell_type": "code",
      "source": [
        "prompt = input('Esperando prompt: ')\n",
        "while prompt != 'fim':\n",
        "  response = chat.send_message(prompt)\n",
        "  print('Resposta:', response.text, '\\n')\n",
        "  prompt = input('Esperando prompt: ')"
      ],
      "metadata": {
        "id": "ApymIdx7f38s"
      },
      "execution_count": null,
      "outputs": []
    },
    {
      "cell_type": "code",
      "source": [
        "#Melhorando a visualização\n",
        "import textwrap\n",
        "from IPython.display import display\n",
        "from IPython.display import Markdown\n",
        "\n",
        "def to_markwown(text):\n",
        "  text = text.replace(' * '  ' * ')\n",
        "  return Markdown(textwrap.indent(text, '> ', predicate=lambda _: True))\n",
        "  #Imprimindo o histórico\n",
        "  for message in chat.history:\n",
        "    display(to_markwown(f'**{message.role}**:{message.parts[0].text}'))\n",
        "    print*('--------------------------------------------')"
      ],
      "metadata": {
        "id": "jBi_2wP1kbBL"
      },
      "execution_count": 51,
      "outputs": []
    }
  ]
}